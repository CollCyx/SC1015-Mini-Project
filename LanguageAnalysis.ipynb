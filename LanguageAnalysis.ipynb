{
 "cells": [
  {
   "cell_type": "code",
   "execution_count": 32,
   "metadata": {},
   "outputs": [],
   "source": [
    "#import packages\n",
    "import numpy as np\n",
    "import pandas as pd\n",
    "import seaborn as sb\n",
    "import json\n",
    "from sklearn.ensemble import RandomForestRegressor\n",
    "from sklearn.model_selection import train_test_split\n",
    "from sklearn.metrics import r2_score\n",
    "from sklearn.model_selection import mean_squared_error"
   ]
  },
  {
   "attachments": {},
   "cell_type": "markdown",
   "metadata": {},
   "source": [
    "Data Import"
   ]
  },
  {
   "cell_type": "code",
   "execution_count": 13,
   "metadata": {},
   "outputs": [],
   "source": [
    "game_data = pd.read_csv(\"data/clean_data.csv\")\n",
    "game_vo = pd.read_csv(\"data/Audio_separated.csv\")\n",
    "game_ui = pd.read_csv(\"data/Lang_separated.csv\")"
   ]
  },
  {
   "attachments": {},
   "cell_type": "markdown",
   "metadata": {},
   "source": [
    "---\n",
    "Function to seperate languages into individual columns <br>\n",
    "1/0 as True/False because regression model requires numeric inputs"
   ]
  },
  {
   "cell_type": "code",
   "execution_count": 29,
   "metadata": {},
   "outputs": [],
   "source": [
    "def seperate(df, column):\n",
    "    json_table = []\n",
    "    json_file = df.to_json(orient='records')\n",
    "    json_file = json.loads(json_file)\n",
    "\n",
    "    for j in json_file:\n",
    "        test = {}\n",
    "        temp = j[column][1:-1]\n",
    "        test[\"AppID\"] = j[\"AppID\"]\n",
    "        test[\"Name\"] = j[\"Name\"]\n",
    "        test[\"Price\"] = j[\"Price\"]\n",
    "        \n",
    "        if temp != \"\":\n",
    "            temp = temp.split(\",\")\n",
    "            for i in temp:\n",
    "                i = i.replace(\"'\", '')\n",
    "                test[i] = 1\n",
    "        \n",
    "        json_table.append(test)\n",
    "\n",
    "    res_table = pd.DataFrame(json_table)\n",
    "    print(res_table.shape)\n",
    "    print(res_table.columns.tolist())\n",
    "    res_table.fillna(value=0, inplace=True)\n",
    "\n",
    "    print(len(json_table))\n",
    "    return res_table"
   ]
  },
  {
   "cell_type": "code",
   "execution_count": 30,
   "metadata": {},
   "outputs": [
    {
     "name": "stdout",
     "output_type": "stream",
     "text": [
      "(16081, 70)\n",
      "['AppID', 'Name', 'Price', 'English', ' Polish', ' French', ' Italian', ' German', ' Spanish - Spain', ' Portuguese', ' Russian', ' Japanese', ' Korean', ' Turkish', ' Czech', ' Portuguese - Brazil', ' Hungarian', ' Dutch', ' Ukrainian', ' Danish', ' Simplified Chinese', ' Traditional Chinese', ' Arabic', ' Spanish - Latin America', 'Simplified Chinese', ' Thai', ' Finnish', ' Norwegian', ' Romanian', ' Swedish', 'Japanese', ' English', ' Greek', ' Vietnamese', ' Bulgarian', 'Portuguese - Brazil', 'Russian', ' German;', 'Traditional Chinese', 'Polish', 'Korean', 'Danish', 'German', 'Spanish - Spain', '#lang_français', 'Czech', 'French', 'Turkish', 'Dutch', 'Bulgarian', 'Thai', 'Arabic', ' Traditional Chinese (text only)', 'Vietnamese', 'English[b][/b]', ' Italian \\\\r\\\\n\\\\r\\\\n[b][/b] ', 'Romanian', 'English (full audio)', ' Russian\\\\r\\\\n[b][/b]', ' German[b][/b]', ' Spanish - Spain\\\\r\\\\n[b][/b]', '  Korean', ' Slovakian', 'English\\\\r\\\\nRussian\\\\r\\\\nSpanish - Spain\\\\r\\\\nJapanese\\\\r\\\\nCzech', 'Italian', 'English Dutch  English', ' Portuguese - Portugal', ' Indonesian', ' Hindi', ' Catalan']\n",
      "16081\n",
      "(16081, 59)\n",
      "['AppID', 'Name', 'Price', 'English', ' Japanese', ' German', ' French', ' Russian', ' Italian', ' Spanish - Spain', ' Portuguese - Brazil', ' Traditional Chinese', ' Spanish - Latin America', ' Turkish', ' Simplified Chinese', ' Korean', 'Japanese', ' Hungarian', 'Simplified Chinese', 'Russian', 'Portuguese - Brazil', ' Czech', ' Danish', ' Dutch', ' Norwegian', ' Polish', ' Swedish', ' Ukrainian', ' Greek', ' Portuguese', ' English', ' Thai', ' Finnish', ' Arabic', ' Bulgarian', ' Romanian', ' Vietnamese', 'German', 'Ukrainian', 'Traditional Chinese', 'Thai', 'Korean', 'Arabic', 'Swedish', 'French', 'Czech', 'Spanish - Spain', 'English[b][/b]', ' Italian \\\\r\\\\n\\\\r\\\\n[b][/b] ', 'Romanian', 'Polish', ' Russian\\\\r\\\\n[b][/b]', ' German[b][/b]', ' Spanish - Spain\\\\r\\\\n[b][/b]', 'Turkish', ' Portuguese - Portugal', 'Vietnamese', ' Indonesian', ' Hindi']\n",
      "16081\n"
     ]
    }
   ],
   "source": [
    "uis = pd.DataFrame(game_data[[\"AppID\", \"Name\", \"Price\", \"Supported languages\"]])\n",
    "vos = pd.DataFrame(game_data[[\"AppID\", \"Name\", \"Price\", \"Full audio languages\"]])\n",
    "\n",
    "sep_game_ui = seperate(uis, \"Supported languages\")\n",
    "sep_game_vo = seperate(vos, \"Full audio languages\")"
   ]
  },
  {
   "attachments": {},
   "cell_type": "markdown",
   "metadata": {},
   "source": [
    "---\n",
    "Random Forest"
   ]
  },
  {
   "cell_type": "code",
   "execution_count": 36,
   "metadata": {},
   "outputs": [
    {
     "name": "stdout",
     "output_type": "stream",
     "text": [
      "train score:  0.26204594671093706  mse:  98.23872288613234 9.911544929330258\n",
      "test score:  0.1294270623374204  mse:  113.60356286785651 10.65849721432888\n"
     ]
    }
   ],
   "source": [
    "# random forest with voice over language\n",
    "test_regr = RandomForestRegressor(max_features=0.4)\n",
    "\n",
    "Y = sep_game_vo[\"Price\"]\n",
    "X = sep_game_vo.drop(columns=[\"AppID\", \"Price\", \"Name\"])\n",
    "X_train, X_test, Y_train, Y_test = train_test_split(X, Y, test_size=0.4)\n",
    "\n",
    "test_regr.fit(X_train, Y_train)\n",
    "maybe = test_regr.predict(X_train)\n",
    "maybe2 = test_regr.predict(X_test)\n",
    "mse = mean_squared_error(Y_train, maybe)\n",
    "mse2 = mean_squared_error(Y_test, maybe2)\n",
    "score = r2_score(Y_train, maybe)\n",
    "score2 = r2_score(Y_test, maybe2)\n",
    "print(\"train score: \",score, \" mse: \", mse,  mse**(1/2))\n",
    "print(\"test score: \",score2, \" mse: \", mse2,  mse2**(1/2))"
   ]
  },
  {
   "cell_type": "code",
   "execution_count": 37,
   "metadata": {},
   "outputs": [
    {
     "name": "stdout",
     "output_type": "stream",
     "text": [
      "train score:  0.4094917353920644  mse:  77.70585968801275 8.815092721464293\n",
      "test score:  0.18950533469335606  mse:  107.65535892533212 10.37571004439369\n"
     ]
    }
   ],
   "source": [
    "# random forest with UI language\n",
    "test_regr = RandomForestRegressor(max_features=0.4)\n",
    "\n",
    "Y = sep_game_ui[\"Price\"]\n",
    "X = sep_game_ui.drop(columns=[\"AppID\", \"Price\", \"Name\"])\n",
    "X_train, X_test, Y_train, Y_test = train_test_split(X, Y, test_size=0.4)\n",
    "\n",
    "test_regr.fit(X_train, Y_train)\n",
    "maybe = test_regr.predict(X_train)\n",
    "maybe2 = test_regr.predict(X_test)\n",
    "mse = mean_squared_error(Y_train, maybe)\n",
    "mse2 = mean_squared_error(Y_test, maybe2)\n",
    "score = r2_score(Y_train, maybe)\n",
    "score2 = r2_score(Y_test, maybe2)\n",
    "print(\"train score: \",score, \" mse: \", mse,  mse**(1/2))\n",
    "print(\"test score: \",score2, \" mse: \", mse2,  mse2**(1/2))"
   ]
  }
 ],
 "metadata": {
  "kernelspec": {
   "display_name": "Python 3 (ipykernel)",
   "language": "python",
   "name": "python3"
  },
  "language_info": {
   "codemirror_mode": {
    "name": "ipython",
    "version": 3
   },
   "file_extension": ".py",
   "mimetype": "text/x-python",
   "name": "python",
   "nbconvert_exporter": "python",
   "pygments_lexer": "ipython3",
   "version": "3.9.13"
  },
  "orig_nbformat": 4
 },
 "nbformat": 4,
 "nbformat_minor": 2
}
