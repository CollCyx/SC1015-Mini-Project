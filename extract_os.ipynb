{
 "cells": [
  {
   "cell_type": "code",
   "execution_count": 1,
   "metadata": {},
   "outputs": [],
   "source": [
    "#import packages\n",
    "import numpy as np\n",
    "import pandas as pd\n",
    "import regex as re\n",
    "\n",
    "game_data = pd.read_csv('data/clean_data.csv')"
   ]
  },
  {
   "attachments": {},
   "cell_type": "markdown",
   "metadata": {},
   "source": [
    "OS"
   ]
  },
  {
   "cell_type": "code",
   "execution_count": 3,
   "metadata": {},
   "outputs": [],
   "source": [
    "copy_game_data = game_data.copy()\n",
    "os = copy_game_data[['AppID', 'Name', 'Windows', 'Linux', 'Mac', 'Price']]\n",
    "\n",
    "#row[3] is windows, row[4] is linux, row[5] is mac\n",
    "\n",
    "os_count_data = pd.DataFrame()\n",
    "os_count_data['All'] = []\n",
    "os_count_data['Windows Only'] = []\n",
    "os_count_data['Windows and Mac'] = []\n",
    "os_count_data['Windows and Linux'] = []\n",
    "os_count_data['Mac and Linux'] = []\n",
    "os_count_data['Mac Only'] = []\n",
    "os_count_data['Linux Only'] = []\n",
    "os_count_data['None'] = []\n",
    "#os_count_data.insert(0, 'AppID', os['AppID'])\n",
    "#os_count_data.insert(1, 'Name', os['Name'])\n",
    "\n",
    "for row in os.itertuples(index = True, name = 'Data'):\n",
    "\n",
    "    if row[3]==True and row[4]==True and row[5]==True:\n",
    "        os_count_data.at[len(os_count_data['All']), 'All'] = row[6]\n",
    "\n",
    "    \n",
    "    elif row[3]==True and row[4]==False and row[5]==False:\n",
    "        os_count_data.at[len(os_count_data['Windows Only']), 'Windows Only'] = row[6]\n",
    "\n",
    "    \n",
    "    elif row[3]==True and row[4]==False and row[5]==True:\n",
    "        os_count_data.at[len(os_count_data['Windows and Mac']), 'Windows and Mac'] = row[6]\n",
    "\n",
    "\n",
    "    elif row[3]==True and row[4]==True and row[5]==False:\n",
    "        os_count_data.at[len(os_count_data['Windows and Linux']), 'Windows and Linux'] = row[6]\n",
    "\n",
    "\n",
    "    elif row[3]==False and row[4]==True and row[5]==True:\n",
    "        os_count_data.at[len(os_count_data['Mac and Linux']), 'Mac and Linux'] = row[6]\n",
    "\n",
    "\n",
    "    elif row[3]==False and row[4]==False and row[5]==True:\n",
    "        os_count_data.at[len(os_count_data['Mac Only']), 'Mac Only'] = row[6]\n",
    "\n",
    "\n",
    "    elif row[3]==False and row[4]==True and row[5]==False:\n",
    "        os_count_data.at[len(os_count_data['Linux Only']), 'Linux Only'] = row[6]\n",
    "\n",
    "\n",
    "    elif row[3]==False and row[4]==False and row[5]==False:\n",
    "        os_count_data.at[len(os_count_data['None']), 'None'] = row[6]\n",
    "\n",
    "os_count_data.to_csv(\"data/OS.csv\", index=False)"
   ]
  },
  {
   "cell_type": "code",
   "execution_count": 4,
   "metadata": {},
   "outputs": [
    {
     "name": "stdout",
     "output_type": "stream",
     "text": [
      "    All Windows Only Windows and Mac Windows and Linux Mac and Linux Mac Only  \\\n",
      "0     F          0.0               F                 F             F        F   \n",
      "1     F        14.99               F                 F             F        F   \n",
      "2  3.99            F               F                 F             F        F   \n",
      "3     F        23.99               F                 F             F        F   \n",
      "4     F            F             0.0                 F             F        F   \n",
      "\n",
      "  Linux Only None  \n",
      "0          F    F  \n",
      "1          F    F  \n",
      "2          F    F  \n",
      "3          F    F  \n",
      "4          F    F  \n"
     ]
    }
   ],
   "source": [
    "index = 0\n",
    "os_count_data.to_csv(\"data/OS.csv\", index=False)\n",
    "for row in os_count_data.itertuples(index = True, name = 'Data'):\n",
    "    if (pd.isna(row[1])):\n",
    "        os_count_data.at[index, 'All'] = 'F'\n",
    "    if (pd.isna(row[2])):\n",
    "        os_count_data.at[index, 'Windows Only'] = 'F'\n",
    "    if (pd.isna(row[3])):\n",
    "        os_count_data.at[index, 'Windows and Mac'] = 'F'\n",
    "    if (pd.isna(row[4])):\n",
    "        os_count_data.at[index, 'Windows and Linux'] = 'F'\n",
    "    if (pd.isna(row[5])):\n",
    "        os_count_data.at[index, 'Mac and Linux'] = 'F'\n",
    "    if (pd.isna(row[6])):\n",
    "        os_count_data.at[index, 'Mac Only'] = 'F'\n",
    "    if (pd.isna(row[7])):\n",
    "        os_count_data.at[index, 'Linux Only'] = 'F'\n",
    "    if (pd.isna(row[8])):\n",
    "        os_count_data.at[index, 'None'] = 'F'\n",
    "    index+=1\n",
    "\n",
    "print(os_count_data.head())\n",
    "os_count_data.to_csv(\"data/OS.csv\", index=False)"
   ]
  },
  {
   "cell_type": "code",
   "execution_count": 6,
   "metadata": {},
   "outputs": [
    {
     "name": "stdout",
     "output_type": "stream",
     "text": [
      "18272\n",
      "    All Windows Only Windows and Mac Windows and Linux Mac and Linux Mac Only  \\\n",
      "0  None          0.0            None              None          None     None   \n",
      "1  None        14.99            None              None          None     None   \n",
      "2  3.99         None            None              None          None     None   \n",
      "3  None        23.99            None              None          None     None   \n",
      "4  None         None             0.0              None          None     None   \n",
      "\n",
      "  Linux Only  None  \n",
      "0       None  None  \n",
      "1       None  None  \n",
      "2       None  None  \n",
      "3       None  None  \n",
      "4       None  None  \n"
     ]
    }
   ],
   "source": [
    "#replace the TRUE values with the price\n",
    "os_sep_price = pd.read_csv('data/OS.csv').copy()\n",
    "x=0\n",
    "print(game_data.shape[0])\n",
    "while x != game_data.shape[0]:\n",
    "\n",
    "    for row in os_sep_price.itertuples(index = True, name = 'Data'):\n",
    "        \n",
    "        os_sep_price.loc[x] = os_sep_price.loc[x].replace(to_replace='F', value=None)\n",
    "    \n",
    "        x+=1\n",
    "\n",
    "        if (x == game_data.shape[0]):\n",
    "            break\n",
    "\n",
    "\n",
    "print(os_sep_price.head(5))\n",
    "\n",
    "os_sep_price.to_csv('data/OS2.csv', index=False)"
   ]
  }
 ],
 "metadata": {
  "kernelspec": {
   "display_name": "base",
   "language": "python",
   "name": "python3"
  },
  "language_info": {
   "codemirror_mode": {
    "name": "ipython",
    "version": 3
   },
   "file_extension": ".py",
   "mimetype": "text/x-python",
   "name": "python",
   "nbconvert_exporter": "python",
   "pygments_lexer": "ipython3",
   "version": "3.9.13"
  },
  "orig_nbformat": 4,
  "vscode": {
   "interpreter": {
    "hash": "610a6f344c2137faf927ea819c63f6cee33a2c04455044b28099f39fe9722347"
   }
  }
 },
 "nbformat": 4,
 "nbformat_minor": 2
}
