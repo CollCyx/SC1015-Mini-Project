{
 "cells": [
  {
   "cell_type": "code",
   "execution_count": null,
   "metadata": {},
   "outputs": [],
   "source": [
    "#import packages\n",
    "import numpy as np\n",
    "import pandas as pd\n",
    "import seaborn as sb\n",
    "import matplotlib.pyplot as plt # we only need pyplot\n",
    "from sklearn.linear_model import LinearRegression\n",
    "from sklearn.model_selection import train_test_split\n",
    "from sklearn.metrics import mean_squared_error\n",
    "import json"
   ]
  },
  {
   "cell_type": "code",
   "execution_count": null,
   "metadata": {},
   "outputs": [],
   "source": [
    "#data import\n",
    "game_data = pd.read_csv('data/clean_data.csv')"
   ]
  },
  {
   "cell_type": "code",
   "execution_count": null,
   "metadata": {},
   "outputs": [],
   "source": [
    "tagg_price = pd.DataFrame(game_data[[\"AppID\", \"Name\", \"Price\", \"Tags\"]])"
   ]
  },
  {
   "cell_type": "code",
   "execution_count": null,
   "metadata": {},
   "outputs": [],
   "source": [
    "#generate table of genres\n",
    "\n",
    "json_table = []\n",
    "tag_price_json = tagg_price.to_json(orient='records')\n",
    "tag_price_json = json.loads(tag_price_json)\n",
    "\n",
    "for j in tag_price_json:\n",
    "    test = {}\n",
    "    tags = j[\"Tags\"]\n",
    "    test[\"AppID\"] = j[\"AppID\"]\n",
    "    test[\"Name\"] = j[\"Name\"]\n",
    "    test[\"Price\"] = j[\"Price\"]\n",
    "    \n",
    "    if tags != None:\n",
    "        tags = tags.split(\",\")\n",
    "        for i in tags:\n",
    "            test[i] = True\n",
    "    \n",
    "    json_table.append(test)\n",
    "\n",
    "print(len(json_table))"
   ]
  },
  {
   "cell_type": "code",
   "execution_count": null,
   "metadata": {},
   "outputs": [],
   "source": [
    "tag_price_table = pd.DataFrame(json_table)\n",
    "print(tag_price_table.shape)\n",
    "print(tag_price_table.columns.tolist())\n",
    "tag_price_table.fillna(value=False, inplace=True)\n",
    "\n",
    "tag_price_table.head()"
   ]
  },
  {
   "cell_type": "code",
   "execution_count": null,
   "metadata": {},
   "outputs": [],
   "source": [
    "tag_table = tag_price_table.drop(columns =['Price', 'AppID', \"Name\"])\n",
    "\n",
    "tag2 = tag_table.melt(value_vars=tag_table.columns)\n",
    "tag2 = tag2[tag2[\"value\"] != False]\n",
    "f = plt.figure(figsize=(60, 12))\n",
    "\n",
    "graph = sb.countplot(data=tag2, x=\"variable\")\n",
    "graph.bar_label(graph.containers[0])\n",
    "graph.set_xticklabels(graph.get_xticklabels(),rotation=90)\n",
    "\n",
    "plt.show()\n"
   ]
  },
  {
   "cell_type": "code",
   "execution_count": null,
   "metadata": {},
   "outputs": [],
   "source": [
    "tag_price = tag_price_table.drop(columns =['AppID'])\n",
    "\n",
    "plt.figure(figsize=(15,10))\n",
    "sb.heatmap(data=tag_price.corr())\n",
    "plt.show()"
   ]
  },
  {
   "cell_type": "code",
   "execution_count": null,
   "metadata": {},
   "outputs": [],
   "source": [
    "corr_table = tag_price.corr()[\"Price\"]\n",
    "corr_table.head()"
   ]
  },
  {
   "cell_type": "code",
   "execution_count": null,
   "metadata": {},
   "outputs": [],
   "source": [
    "for index, row in corr_table.items():\n",
    "    if(row > 0.1 or row < -0.1):\n",
    "        print(index, \" aa \", row)"
   ]
  },
  {
   "cell_type": "code",
   "execution_count": null,
   "metadata": {},
   "outputs": [],
   "source": [
    "tag_table_melted = pd.melt(tag_price_table, id_vars=['Price'], value_vars=tag_table.columns)\n",
    "\n",
    "plt.figure(figsize=(20,30))\n",
    "sb.boxplot(x=tag_table_melted[\"Price\"], y=tag_table_melted[\"variable\"], hue=tag_table_melted[\"value\"], orient=\"h\")\n",
    "plt.show()"
   ]
  },
  {
   "cell_type": "code",
   "execution_count": null,
   "metadata": {},
   "outputs": [],
   "source": [
    "from sklearn.model_selection import train_test_split\n",
    "from sklearn import metrics\n",
    "from sklearn.ensemble import RandomForestRegressor"
   ]
  },
  {
   "cell_type": "code",
   "execution_count": null,
   "metadata": {},
   "outputs": [],
   "source": [
    "json_table = []\n",
    "tag_price_json = tagg_price.to_json(orient='records')\n",
    "tag_price_json = json.loads(tag_price_json)\n",
    "\n",
    "for j in tag_price_json:\n",
    "    test = {}\n",
    "    tags = j[\"Tags\"]\n",
    "    test[\"AppID\"] = j[\"AppID\"]\n",
    "    test[\"Name\"] = j[\"Name\"]\n",
    "    test[\"Price\"] = j[\"Price\"]\n",
    "    \n",
    "    if tags != None:\n",
    "        tags = tags.split(\",\")\n",
    "        for i in tags:\n",
    "            test[i] = 1\n",
    "    \n",
    "    json_table.append(test)\n",
    "\n",
    "new_table = pd.DataFrame(json_table)\n",
    "new_table.fillna(value=0, inplace=True)\n",
    "\n",
    "new_table.head()"
   ]
  },
  {
   "cell_type": "code",
   "execution_count": null,
   "metadata": {},
   "outputs": [],
   "source": [
    "regr = RandomForestRegressor()\n",
    "test_regr = RandomForestRegressor()\n",
    "columns = new_table.columns.tolist()\n",
    "columns = columns[3:]\n",
    "print(columns)\n",
    "print(len(columns))\n"
   ]
  },
  {
   "cell_type": "code",
   "execution_count": null,
   "metadata": {},
   "outputs": [],
   "source": [
    "bbb = columns\n",
    "\n",
    "mmax = 0\n",
    "mmin = 1000\n",
    "thing = \"\"\n",
    "thing2 = \"\"\n",
    "for index, row in corr_table.items():\n",
    "    if(index == \"Price\"):\n",
    "        continue\n",
    "    if(row > mmax):\n",
    "        mmax = row\n",
    "        thing = index\n",
    "    if(row < mmin):\n",
    "        mmin = row\n",
    "        thing2 = index\n",
    "print(\"max: \",mmax,\" min \",mmin)\n",
    "print(thing, thing2)"
   ]
  },
  {
   "cell_type": "code",
   "execution_count": null,
   "metadata": {},
   "outputs": [],
   "source": [
    "X = new_table[columns]\n",
    "Y = new_table[\"Price\"]\n",
    "test_regr.fit(X, Y)\n",
    "maybe = test_regr.predict(X)\n",
    "mse = mean_squared_error(Y, maybe)\n",
    "score = test_regr.score(X, Y)\n",
    "print(\"score: \",score, \" mse: \", mse,  mse**(1/2))"
   ]
  },
  {
   "cell_type": "code",
   "execution_count": null,
   "metadata": {},
   "outputs": [],
   "source": [
    "# ccc = [thing2]\n",
    "# final = []\n",
    "# mini = 0\n",
    "# end = 0\n",
    "# if(thing2 in bbb):\n",
    "#     bbb.remove(thing2)\n",
    "# print(bbb)\n",
    "# while bbb != []:\n",
    "#     ccc.append(bbb[0])\n",
    "#     print(ccc)\n",
    "#     bbb = bbb[1:]\n",
    "#     X = a[ccc]\n",
    "#     Y = a[\"Price\"]\n",
    "#     regr.fit(X, Y)\n",
    "#     testt = regr.predict(X)\n",
    "#     mse = mean_squared_error(Y, testt)\n",
    "#     score = regr.score(X, Y)\n",
    "#     if(score >= mini):\n",
    "#         mini = score\n",
    "#         final = ccc\n",
    "#         end = mse\n",
    "#     else:\n",
    "#         ccc.pop()\n",
    "    \n",
    "#     print(\"score: \",score, \" mse: \", mse,  mse**(1/2))\n"
   ]
  },
  {
   "cell_type": "code",
   "execution_count": null,
   "metadata": {},
   "outputs": [],
   "source": [
    "# print(final)\n",
    "# print(end**(1/2))\n",
    "# mini"
   ]
  }
 ],
 "metadata": {
  "kernelspec": {
   "display_name": "Python 3 (ipykernel)",
   "language": "python",
   "name": "python3"
  },
  "orig_nbformat": 4
 },
 "nbformat": 4,
 "nbformat_minor": 2
}
