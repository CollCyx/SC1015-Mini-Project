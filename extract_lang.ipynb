{
 "cells": [
  {
   "cell_type": "code",
   "execution_count": 10,
   "metadata": {},
   "outputs": [],
   "source": [
    "#import packages\n",
    "import numpy as np\n",
    "import pandas as pd\n",
    "import regex as re\n",
    "\n",
    "game_data = pd.read_csv('data/clean_data.csv')"
   ]
  },
  {
   "attachments": {},
   "cell_type": "markdown",
   "metadata": {},
   "source": [
    "Languages"
   ]
  },
  {
   "cell_type": "code",
   "execution_count": 11,
   "metadata": {},
   "outputs": [],
   "source": [
    "#extract languages\n",
    "copy_game_data = game_data.copy()\n",
    "lang_data = pd.DataFrame()\n",
    "lang_data.insert(0, 'AppID', game_data['AppID'])\n",
    "lang_data.insert(1, 'Name', game_data['Name'])\n",
    "index = 0\n",
    "\n",
    "for row in copy_game_data.itertuples(index = True, name = 'Data'):\n",
    "    temp = re.sub('[\\[\\]\\'\\s]', '', row[11])   #remove square brackets and apostrophes from string\n",
    "    temp = temp.split(',')    #split string by ',' into a list \n",
    "\n",
    "    if temp[0] == '':\n",
    "        temp.clear()\n",
    "        temp.append('None')                              \n",
    "\n",
    "    length = len(temp)\n",
    "\n",
    "    if temp[0] == 'None':\n",
    "        length -= 1\n",
    "\n",
    "    lang_data.at[index, 'Number of languages'] = length   #store num of audio lang for each game\n",
    "\n",
    "    lang_data.at[index, 'Languages'] = temp   #store list of languages\n",
    "\n",
    "    index += 1\n",
    "\n",
    "if (lang_data.at[0, 'AppID'] == 1469160):\n",
    "    lang_data.at[0, 'Languages'] = list(['English'])\n",
    "\n",
    "lang_data.to_csv(\"data/Lang.csv\", index=False)   #overwrite audio.csv"
   ]
  },
  {
   "cell_type": "code",
   "execution_count": 12,
   "metadata": {},
   "outputs": [
    {
     "name": "stdout",
     "output_type": "stream",
     "text": [
      "['English', 'French', 'Italian', 'German', 'Spanish-Spain', 'Russian', 'Japanese', 'SimplifiedChinese', 'TraditionalChinese', 'Korean', 'Polish', 'Portuguese', 'Turkish', 'Czech', 'Portuguese-Brazil', 'Hungarian', 'Dutch', 'Ukrainian', 'Danish', 'Arabic', 'Spanish-LatinAmerica', 'Thai', 'Finnish', 'Norwegian', 'Romanian', 'Swedish', 'Greek', 'Vietnamese', 'Bulgarian', 'Slovakian', 'Portuguese-Portugal', 'Indonesian', 'Hindi', 'Catalan']\n",
      "Number of languages 34\n"
     ]
    }
   ],
   "source": [
    "#find all languages \n",
    "all_lang = list()\n",
    "all_lang.clear()\n",
    "\n",
    "for row in lang_data.itertuples(index = True, name = 'Data'):\n",
    "    \n",
    "    for item in row[4]:\n",
    "       \n",
    "        if item in all_lang:\n",
    "            continue\n",
    "        if item == 'None':\n",
    "            continue\n",
    "        if len(item) == 1:\n",
    "            continue\n",
    "        else:\n",
    "            all_lang.append(item)\n",
    "\n",
    "print(all_lang)\n",
    "print('Number of languages', len(all_lang))"
   ]
  },
  {
   "cell_type": "code",
   "execution_count": 13,
   "metadata": {},
   "outputs": [],
   "source": [
    "lang_sep_data = pd.DataFrame()\n",
    "lang_sep_data.insert(0, 'AppID', game_data['AppID'])\n",
    "lang_sep_data.insert(1, 'Name', game_data['Name'])\n",
    "lang_sep_data.insert(2, 'Price', game_data['Price'])\n",
    "\n",
    "for language in all_lang:\n",
    "    lang_sep_data[language] = 'F'\n",
    "\n",
    "lang_sep_data['None'] = 'F'\n",
    "\n",
    "lang_sep_data.to_csv(\"data/Lang_separated.csv\", index=False)"
   ]
  },
  {
   "cell_type": "code",
   "execution_count": 14,
   "metadata": {},
   "outputs": [],
   "source": [
    "index = 0\n",
    "\n",
    "for row in lang_data.itertuples(index = True, name = 'Data'):\n",
    "    \n",
    "    for item in row[4]:\n",
    "        lang_sep_data.at[index, item] = 'T'\n",
    "\n",
    "    index += 1\n",
    "\n",
    "lang_sep_data.to_csv(\"data/Lang_separated.csv\", index=False)"
   ]
  },
  {
   "cell_type": "code",
   "execution_count": 17,
   "metadata": {},
   "outputs": [
    {
     "name": "stdout",
     "output_type": "stream",
     "text": [
      "18272\n"
     ]
    }
   ],
   "source": [
    "#For the boxplots\n",
    "#replace the TRUE values with the price\n",
    "lang_sep_price = pd.read_csv('data/Lang_separated.csv').copy()\n",
    "x=0\n",
    "print(game_data.shape[0])\n",
    "while x != game_data.shape[0]:\n",
    "\n",
    "    for row in lang_sep_price.itertuples(index = True, name = 'Data'):\n",
    "        lang_sep_price.loc[x] = lang_sep_price.loc[x].replace(to_replace='T', value=row[3])\n",
    "        lang_sep_price.loc[x] = lang_sep_price.loc[x].replace(to_replace='F', value=None)\n",
    "    \n",
    "        x+=1\n",
    "\n",
    "        if (x == game_data.shape[0]):\n",
    "            break\n",
    "\n",
    "lang_sep_price.to_csv('data/Lang_separated2.csv', index=False)"
   ]
  }
 ],
 "metadata": {
  "kernelspec": {
   "display_name": "base",
   "language": "python",
   "name": "python3"
  },
  "language_info": {
   "codemirror_mode": {
    "name": "ipython",
    "version": 3
   },
   "file_extension": ".py",
   "mimetype": "text/x-python",
   "name": "python",
   "nbconvert_exporter": "python",
   "pygments_lexer": "ipython3",
   "version": "3.9.13"
  },
  "orig_nbformat": 4,
  "vscode": {
   "interpreter": {
    "hash": "610a6f344c2137faf927ea819c63f6cee33a2c04455044b28099f39fe9722347"
   }
  }
 },
 "nbformat": 4,
 "nbformat_minor": 2
}
