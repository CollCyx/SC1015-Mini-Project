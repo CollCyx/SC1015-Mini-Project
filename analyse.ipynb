{
 "cells": [
  {
   "cell_type": "code",
   "execution_count": null,
   "metadata": {},
   "outputs": [],
   "source": [
    "#import packages\n",
    "import numpy as np\n",
    "import pandas as pd\n",
    "import seaborn as sb\n",
    "import matplotlib.pyplot as plt # we only need pyplot\n",
    "from sklearn.linear_model import LinearRegression\n",
    "from sklearn.model_selection import train_test_split\n",
    "from sklearn.metrics import mean_squared_error\n",
    "import json"
   ]
  },
  {
   "cell_type": "code",
   "execution_count": null,
   "metadata": {},
   "outputs": [],
   "source": [
    "#data import\n",
    "game_data = pd.read_csv('data/clean_data.csv')\n"
   ]
  },
  {
   "cell_type": "code",
   "execution_count": null,
   "metadata": {},
   "outputs": [],
   "source": [
    "sb.heatmap(data=game_data.corr())\n"
   ]
  },
  {
   "cell_type": "code",
   "execution_count": null,
   "metadata": {},
   "outputs": [],
   "source": [
    "corr_table = game_data.corr()[\"Price\"]\n",
    "corr_table.head()"
   ]
  },
  {
   "cell_type": "code",
   "execution_count": null,
   "metadata": {},
   "outputs": [],
   "source": [
    "for index, row in corr_table.items():\n",
    "    print(index, \" corr:\", row)"
   ]
  },
  {
   "cell_type": "code",
   "execution_count": null,
   "metadata": {},
   "outputs": [],
   "source": [
    "price_tag = pd.DataFrame(game_data[[\"AppID\", \"Name\", \"Price\", \"Tags\"]])\n",
    "price_category = pd.DataFrame(game_data[[\"AppID\", \"Name\", \"Price\", \"Categories\"]])\n",
    "price_genre = pd.DataFrame(game_data[[\"AppID\", \"Name\", \"Price\", \"Genres\"]])"
   ]
  },
  {
   "cell_type": "code",
   "execution_count": null,
   "metadata": {},
   "outputs": [],
   "source": [
    "def seperate(df, column):\n",
    "    json_table = []\n",
    "    json_file = df.to_json(orient='records')\n",
    "    json_file = json.loads(json_file)\n",
    "\n",
    "    for j in json_file:\n",
    "        test = {}\n",
    "        temp = j[column]\n",
    "        test[\"AppID\"] = j[\"AppID\"]\n",
    "        test[\"Name\"] = j[\"Name\"]\n",
    "        test[\"Price\"] = j[\"Price\"]\n",
    "        \n",
    "        if temp != None:\n",
    "            temp = temp.split(\",\")\n",
    "            for i in temp:\n",
    "                test[i] = 1\n",
    "        \n",
    "        json_table.append(test)\n",
    "\n",
    "    res_table = pd.DataFrame(json_table)\n",
    "    print(res_table.shape)\n",
    "    print(res_table.columns.tolist())\n",
    "    res_table.fillna(value=0, inplace=True)\n",
    "\n",
    "    print(len(json_table))\n",
    "    return res_table"
   ]
  },
  {
   "cell_type": "code",
   "execution_count": null,
   "metadata": {},
   "outputs": [],
   "source": [
    "price_tag_sep = seperate(price_tag, \"Tags\")\n",
    "price_category_sep = seperate(price_category, \"Categories\")\n",
    "price_genre_sep = seperate(price_genre, \"Genres\")\n",
    "\n",
    "tags = price_tag_sep.columns.tolist()\n",
    "categories = price_category_sep.columns.tolist()\n",
    "genres = price_genre_sep.columns.tolist()"
   ]
  },
  {
   "cell_type": "code",
   "execution_count": null,
   "metadata": {},
   "outputs": [],
   "source": [
    "tags = tags[3:]\n",
    "categories = categories[3:]\n",
    "genres = genres[3:]\n",
    "print(tags)\n",
    "print(categories)\n",
    "print(genres)\n",
    "print(len(tags), len(categories), len(genres))"
   ]
  },
  {
   "cell_type": "code",
   "execution_count": null,
   "metadata": {},
   "outputs": [],
   "source": [
    "collection = {}\n",
    "for i in tags:\n",
    "    if(i not in collection.keys()):\n",
    "        collection[i] = [\"Tags\"]\n",
    "\n",
    "for i in categories:\n",
    "    if(i not in collection.keys()):\n",
    "        collection[i] = [\"Categories\"]\n",
    "    else:\n",
    "        collection[i].append(\"Categories\")\n",
    "\n",
    "for i in genres:\n",
    "    if(i not in collection.keys()):\n",
    "        collection[i] = [\"Genres\"]\n",
    "    else:\n",
    "        collection[i].append(\"Genres\")\n",
    "\n",
    "print(collection)\n",
    "len(collection)"
   ]
  },
  {
   "cell_type": "code",
   "execution_count": null,
   "metadata": {},
   "outputs": [],
   "source": [
    "new = pd.DataFrame()\n",
    "for i in collection.keys():\n",
    "    if(len(collection[i]) > 1):\n",
    "        print(\"here: \", i ,collection[i])\n",
    "        if(collection[i] == [\"Tags\", \"Categories\"]):\n",
    "            new[i] = np.ceil((price_tag_sep[i] + price_category_sep[i])/2)\n",
    "        elif(collection[i] == [\"Tags\", \"Genres\"]):\n",
    "            new[i] = np.ceil((price_tag_sep[i] + price_genre_sep[i])/2)\n",
    "        elif(collection[i] == [\"Categories\", \"Genres\"]):\n",
    "            new[i] = np.ceil((price_category_sep[i] + price_genre_sep[i])/2)\n",
    "    else:\n",
    "        print(\"aaa: \", i ,collection[i])\n",
    "        if(collection[i] == [\"Tags\"]):\n",
    "            new[i] = price_tag_sep[i]\n",
    "        elif(collection[i] == [\"Categories\"]):\n",
    "            new[i] = price_category_sep[i]\n",
    "        elif(collection[i] == [\"Genres\"]):\n",
    "            new[i] = price_genre_sep[i]\n",
    "\n",
    "new.head(20)\n"
   ]
  },
  {
   "cell_type": "code",
   "execution_count": null,
   "metadata": {},
   "outputs": [],
   "source": [
    "from sklearn.ensemble import RandomForestRegressor\n",
    "from sklearn.model_selection import train_test_split"
   ]
  },
  {
   "cell_type": "code",
   "execution_count": null,
   "metadata": {},
   "outputs": [],
   "source": [
    "test_regr = RandomForestRegressor(n_estimators=200, min_samples_split=5, max_features=0.2)\n",
    "# max_leaf_nodes=100, max_depth=25, \n",
    "X = new\n",
    "Y = game_data[\"Price\"]\n",
    "X_train, X_test, Y_train, Y_test = train_test_split(X, Y, test_size = 0.2)\n",
    "\n",
    "test_regr.fit(X_train, Y_train)\n",
    "maybe = test_regr.predict(X_train)\n",
    "maybe2 = test_regr.predict(X_test)\n",
    "mse = mean_squared_error(Y_train, maybe)\n",
    "mse2 = mean_squared_error(Y_test, maybe2)\n",
    "score = test_regr.score(X_train, Y_train)\n",
    "score2 = test_regr.score(X_test, Y_test)\n",
    "print(\"train score: \",score, \" mse: \", mse,  mse**(1/2))\n",
    "print(\"test score: \",score2, \" mse: \", mse2,  mse2**(1/2))"
   ]
  },
  {
   "cell_type": "code",
   "execution_count": null,
   "metadata": {},
   "outputs": [],
   "source": [
    "f, axes = plt.subplots(1, 2, figsize=(24, 12))\n",
    "axes[0].scatter(Y_train, maybe, color = \"blue\")\n",
    "axes[0].plot(Y_train, Y_train, 'w-', linewidth = 1)\n",
    "axes[0].set_xlabel(\"True values of the Response Variable (Train)\")\n",
    "axes[0].set_ylabel(\"Predicted values of the Response Variable (Train)\")\n",
    "axes[1].scatter(Y_test, maybe2, color = \"green\")\n",
    "axes[1].plot(Y_test, Y_test, 'w-', linewidth = 1)\n",
    "axes[1].set_xlabel(\"True values of the Response Variable (Test)\")\n",
    "axes[1].set_ylabel(\"Predicted values of the Response Variable (Test)\")\n",
    "plt.show()"
   ]
  },
  {
   "cell_type": "code",
   "execution_count": null,
   "metadata": {},
   "outputs": [],
   "source": [
    "#adding more variables\n",
    "round2 = pd.DataFrame(new)\n",
    "round2[\"Metacritic score\"] = game_data[\"Metacritic score\"]\n",
    "round2[\"Peak CCU\"] = game_data[\"Peak CCU\"]\n",
    "round2[\"Recommendations\"] = game_data[\"Recommendations\"]\n",
    "round2.head()\n"
   ]
  },
  {
   "cell_type": "code",
   "execution_count": null,
   "metadata": {},
   "outputs": [],
   "source": [
    "# test_regr = RandomForestRegressor(max_depth=25, n_estimators=200, min_samples_split=5, max_features=0.4)\n",
    "test_regr = RandomForestRegressor(n_estimators=200, max_depth=20, max_features=0.4)\n",
    "\n",
    "# max_leaf_nodes=100, max_depth=25,\n",
    "\n",
    "X = round2\n",
    "Y = game_data[\"Price\"]\n",
    "X_train, X_test, Y_train, Y_test = train_test_split(X, Y, test_size = 0.25)\n",
    "\n",
    "test_regr.fit(X_train, Y_train)\n",
    "maybe = test_regr.predict(X_train)\n",
    "maybe2 = test_regr.predict(X_test)\n",
    "mse = mean_squared_error(Y_train, maybe)\n",
    "mse2 = mean_squared_error(Y_test, maybe2)\n",
    "score = test_regr.score(X_train, Y_train)\n",
    "score2 = test_regr.score(X_test, Y_test)\n",
    "print(\"train score: \",score, \" mse: \", mse,  mse**(1/2))\n",
    "print(\"test score: \",score2, \" mse: \", mse2,  mse2**(1/2))"
   ]
  },
  {
   "cell_type": "code",
   "execution_count": null,
   "metadata": {},
   "outputs": [],
   "source": [
    "f, axes = plt.subplots(1, 2, figsize=(24, 12))\n",
    "axes[0].scatter(Y_train, maybe, color = \"blue\")\n",
    "axes[0].plot(Y_train, Y_train, 'w-', linewidth = 1)\n",
    "axes[0].set_xlabel(\"True values of the Response Variable (Train)\")\n",
    "axes[0].set_ylabel(\"Predicted values of the Response Variable (Train)\")\n",
    "axes[1].scatter(Y_test, maybe2, color = \"green\")\n",
    "axes[1].plot(Y_test, Y_test, 'w-', linewidth = 1)\n",
    "axes[1].set_xlabel(\"True values of the Response Variable (Test)\")\n",
    "axes[1].set_ylabel(\"Predicted values of the Response Variable (Test)\")\n",
    "plt.show()"
   ]
  }
 ],
 "metadata": {
  "kernelspec": {
   "display_name": "Python 3 (ipykernel)",
   "language": "python",
   "name": "python3"
  },
  "language_info": {
   "codemirror_mode": {
    "name": "ipython",
    "version": 3
   },
   "file_extension": ".py",
   "mimetype": "text/x-python",
   "name": "python",
   "nbconvert_exporter": "python",
   "pygments_lexer": "ipython3",
   "version": "3.9.13"
  },
  "orig_nbformat": 4
 },
 "nbformat": 4,
 "nbformat_minor": 2
}
