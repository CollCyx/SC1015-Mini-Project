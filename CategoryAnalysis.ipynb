{
 "cells": [
  {
   "cell_type": "code",
   "execution_count": null,
   "metadata": {},
   "outputs": [],
   "source": [
    "#import packages\n",
    "import numpy as np\n",
    "import pandas as pd\n",
    "import seaborn as sb\n",
    "import matplotlib.pyplot as plt # we only need pyplot\n",
    "from sklearn.linear_model import LinearRegression\n",
    "from sklearn.model_selection import train_test_split\n",
    "from sklearn.metrics import mean_squared_error\n",
    "import json"
   ]
  },
  {
   "cell_type": "code",
   "execution_count": null,
   "metadata": {},
   "outputs": [],
   "source": [
    "#data import\n",
    "game_data = pd.read_csv('data/clean_data.csv')"
   ]
  },
  {
   "cell_type": "code",
   "execution_count": null,
   "metadata": {},
   "outputs": [],
   "source": [
    "cat_price = pd.DataFrame(game_data[[\"AppID\", \"Name\", \"Price\", \"Categories\"]])"
   ]
  },
  {
   "cell_type": "code",
   "execution_count": null,
   "metadata": {},
   "outputs": [],
   "source": [
    "#generate table of categories\n",
    "\n",
    "a = cat_price.head(1)\n",
    "json_table = []\n",
    "cat_price_json = cat_price.to_json(orient='records')\n",
    "cat_price_json = json.loads(cat_price_json)\n",
    "\n",
    "for j in cat_price_json:\n",
    "    test = {}\n",
    "    cats = j[\"Categories\"]\n",
    "    test[\"AppID\"] = j[\"AppID\"]\n",
    "    test[\"Name\"] = j[\"Name\"]\n",
    "    test[\"Price\"] = j[\"Price\"]\n",
    "    \n",
    "    if cats != None:\n",
    "        cats = cats.split(\",\")\n",
    "        for i in cats:\n",
    "            test[i] = True\n",
    "\n",
    "    json_table.append(test)\n",
    "\n",
    "print(len(json_table))"
   ]
  },
  {
   "cell_type": "code",
   "execution_count": null,
   "metadata": {},
   "outputs": [],
   "source": [
    "cat_price_table = pd.DataFrame(json_table)\n",
    "print(cat_price_table.shape)\n",
    "print(cat_price_table.columns.tolist())\n",
    "cat_cols = cat_price_table.columns.tolist()\n",
    "cat_price_table.fillna(value=False, inplace=True)\n",
    "\n",
    "cat_price_table.head()"
   ]
  },
  {
   "cell_type": "code",
   "execution_count": null,
   "metadata": {},
   "outputs": [],
   "source": [
    "cat_table = cat_price_table.drop(columns =['Price', 'AppID', \"Name\"])\n",
    "\n",
    "cat2 = cat_table.melt(value_vars=cat_table.columns)\n",
    "cat2 = cat2[cat2[\"value\"] != False]\n",
    "f = plt.figure(figsize=(60, 12))\n",
    "\n",
    "graph = sb.countplot(data=cat2, x=\"variable\")\n",
    "graph.bar_label(graph.containers[0])\n",
    "graph.set_xticklabels(graph.get_xticklabels(),rotation=90)\n",
    "\n",
    "plt.show()\n"
   ]
  },
  {
   "cell_type": "code",
   "execution_count": null,
   "metadata": {},
   "outputs": [],
   "source": [
    "cat_price_a = cat_price_table.drop(columns =['AppID'])\n",
    "\n",
    "plt.figure(figsize=(15,10))\n",
    "sb.heatmap(data=cat_price_a.corr())\n",
    "plt.show()"
   ]
  },
  {
   "cell_type": "code",
   "execution_count": null,
   "metadata": {},
   "outputs": [],
   "source": [
    "cat_table_melted = pd.melt(cat_price_table, id_vars=['Price'], value_vars=cat_table.columns)\n",
    "cat_table_melted.head()"
   ]
  },
  {
   "cell_type": "code",
   "execution_count": null,
   "metadata": {},
   "outputs": [],
   "source": [
    "plt.figure(figsize=(20,10))\n",
    "sb.boxplot(x=cat_table_melted[\"Price\"], y=cat_table_melted[\"variable\"], hue=cat_table_melted[\"value\"], orient=\"h\")\n",
    "plt.show()"
   ]
  },
  {
   "cell_type": "code",
   "execution_count": null,
   "metadata": {},
   "outputs": [],
   "source": [
    "T_table = cat_table_melted.drop(cat_table_melted[cat_table_melted.value == False].index)\n",
    "T_table.describe()"
   ]
  },
  {
   "cell_type": "code",
   "execution_count": null,
   "metadata": {},
   "outputs": [],
   "source": [
    "plt.figure(figsize=(20,10))\n",
    "sb.scatterplot(data=T_table, x=\"Price\", y='variable')\n",
    "plt.show()"
   ]
  },
  {
   "attachments": {},
   "cell_type": "markdown",
   "metadata": {},
   "source": [
    "Looking at in app purchases"
   ]
  },
  {
   "cell_type": "code",
   "execution_count": null,
   "metadata": {},
   "outputs": [],
   "source": [
    "in_app_purchases = cat_table_melted.drop(cat_table_melted[cat_table_melted.variable != \"In-App Purchases\"].index)\n",
    "in_app_purchases.describe()"
   ]
  },
  {
   "cell_type": "code",
   "execution_count": null,
   "metadata": {},
   "outputs": [],
   "source": [
    "in_app_purchases.corr()"
   ]
  },
  {
   "attachments": {},
   "cell_type": "markdown",
   "metadata": {},
   "source": [
    "correlations"
   ]
  },
  {
   "cell_type": "code",
   "execution_count": null,
   "metadata": {},
   "outputs": [],
   "source": [
    "# no_free = cat_price[cat_price.Price != 0]\n",
    "corr_table = cat_price_a.corr()[\"Price\"]\n",
    "corr_table.head()"
   ]
  },
  {
   "cell_type": "code",
   "execution_count": null,
   "metadata": {},
   "outputs": [],
   "source": [
    "for index, row in corr_table.items():\n",
    "    if(row > 0.1 or row < -0.1):\n",
    "        print(index, \" aa \", row)"
   ]
  },
  {
   "attachments": {},
   "cell_type": "markdown",
   "metadata": {},
   "source": [
    "classification tree"
   ]
  },
  {
   "cell_type": "code",
   "execution_count": null,
   "metadata": {},
   "outputs": [],
   "source": [
    "from sklearn.model_selection import train_test_split\n",
    "from sklearn import metrics\n",
    "from sklearn.ensemble import RandomForestRegressor"
   ]
  },
  {
   "cell_type": "code",
   "execution_count": null,
   "metadata": {},
   "outputs": [],
   "source": [
    "#generate table of categories\n",
    "\n",
    "json_table = []\n",
    "a = cat_price.to_json(orient='records')\n",
    "a = json.loads(a)\n",
    "\n",
    "for j in a:\n",
    "    test = {}\n",
    "    cats = j[\"Categories\"]\n",
    "    test[\"AppID\"] = j[\"AppID\"]\n",
    "    test[\"Name\"] = j[\"Name\"]\n",
    "    test[\"Price\"] = j[\"Price\"]\n",
    "    \n",
    "    if cats != None:\n",
    "        cats = cats.split(\",\")\n",
    "        for i in cats:\n",
    "            test[i] = 1\n",
    "\n",
    "    json_table.append(test)\n",
    "\n",
    "a = pd.DataFrame(json_table)\n",
    "a.fillna(value=0, inplace=True)\n",
    "\n",
    "a.head()"
   ]
  },
  {
   "cell_type": "code",
   "execution_count": null,
   "metadata": {},
   "outputs": [],
   "source": [
    "regr = RandomForestRegressor()\n",
    "#aaa = a.columns.tolist()\n",
    "aaa = cat_cols[3:]\n",
    "print(aaa)\n",
    "print(len(aaa))\n"
   ]
  },
  {
   "cell_type": "code",
   "execution_count": null,
   "metadata": {},
   "outputs": [],
   "source": [
    "import collections\n",
    "import math\n",
    "import operator\n",
    "import random\n",
    "from itertools import chain, combinations\n",
    "\n",
    "def powerset(iterable):\n",
    "    \"powerset([1,2,3]) --> () (1,) (2,) (3,) (1,2) (1,3) (2,3) (1,2,3)\"\n",
    "    s = list(iterable)\n",
    "    return chain.from_iterable(combinations(s, r) for r in range(1, 3))"
   ]
  },
  {
   "cell_type": "code",
   "execution_count": null,
   "metadata": {},
   "outputs": [],
   "source": [
    "bbb = aaa\n",
    "# print(len(bbb))\n",
    "# trial = list(powerset(bbb))\n",
    "# print(trial)\n",
    "# print(len(trial))\n"
   ]
  },
  {
   "cell_type": "code",
   "execution_count": null,
   "metadata": {},
   "outputs": [],
   "source": [
    "mmax = 0\n",
    "mmin = 1000\n",
    "thing = \"\"\n",
    "for index, row in corr_table.items():\n",
    "    if(index == \"Price\"):\n",
    "        continue\n",
    "    if(row > mmax):\n",
    "        mmax = row\n",
    "        thing = index\n",
    "    if(row < mmin):\n",
    "        mmin = row\n",
    "print(\"max: \",mmax,\" min \",mmin)\n",
    "print(thing)"
   ]
  },
  {
   "cell_type": "code",
   "execution_count": null,
   "metadata": {},
   "outputs": [],
   "source": [
    "# ccc = [thing]\n",
    "# final = []\n",
    "# mini = 0\n",
    "# end = 0\n",
    "# bbb.remove(thing)\n",
    "# print(bbb)\n",
    "# while bbb != []:\n",
    "#     ccc.append(bbb[0])\n",
    "#     print(ccc)\n",
    "#     bbb = bbb[1:]\n",
    "#     X = a[ccc]\n",
    "#     Y = a[\"Price\"]\n",
    "#     regr.fit(X, Y)\n",
    "#     testt = regr.predict(X)\n",
    "#     mse = mean_squared_error(Y, testt)\n",
    "#     score = regr.score(X, Y)\n",
    "#     if(score >= mini):\n",
    "#         mini = score\n",
    "#         final = ccc\n",
    "#         end = mse\n",
    "#     else:\n",
    "#         ccc.pop()\n",
    "    \n",
    "#     print(\"score: \",score, \" mse: \", mse)\n",
    "    # print(\"\", mse**(1/2))"
   ]
  },
  {
   "cell_type": "code",
   "execution_count": null,
   "metadata": {},
   "outputs": [],
   "source": [
    "# print(final)\n",
    "# print(end**(1/2))\n",
    "# mini"
   ]
  },
  {
   "cell_type": "code",
   "execution_count": null,
   "metadata": {},
   "outputs": [],
   "source": [
    "# for name, age in mydict.items():\n",
    "#     if age == search_age:\n",
    "#         print name\n"
   ]
  }
 ],
 "metadata": {
  "kernelspec": {
   "display_name": "Python 3 (ipykernel)",
   "language": "python",
   "name": "python3"
  },
  "language_info": {
   "codemirror_mode": {
    "name": "ipython",
    "version": 3
   },
   "file_extension": ".py",
   "mimetype": "text/x-python",
   "name": "python",
   "nbconvert_exporter": "python",
   "pygments_lexer": "ipython3",
   "version": "3.9.13"
  },
  "orig_nbformat": 4
 },
 "nbformat": 4,
 "nbformat_minor": 2
}
