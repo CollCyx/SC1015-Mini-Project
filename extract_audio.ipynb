{
 "cells": [
  {
   "cell_type": "code",
   "execution_count": 17,
   "metadata": {},
   "outputs": [
    {
     "name": "stdout",
     "output_type": "stream",
     "text": [
      "<class 'pandas.core.frame.DataFrame'>\n",
      "RangeIndex: 18272 entries, 0 to 18271\n",
      "Data columns (total 31 columns):\n",
      " #   Column                      Non-Null Count  Dtype  \n",
      "---  ------                      --------------  -----  \n",
      " 0   Unnamed: 0                  18272 non-null  int64  \n",
      " 1   AppID                       18272 non-null  int64  \n",
      " 2   Name                        18272 non-null  object \n",
      " 3   Release date                18272 non-null  object \n",
      " 4   Estimated owners            18272 non-null  object \n",
      " 5   Peak CCU                    18272 non-null  int64  \n",
      " 6   Required age                18272 non-null  int64  \n",
      " 7   Price                       18272 non-null  float64\n",
      " 8   DLC count                   18272 non-null  int64  \n",
      " 9   About the game              18244 non-null  object \n",
      " 10  Supported languages         18272 non-null  object \n",
      " 11  Full audio languages        18272 non-null  object \n",
      " 12  Reviews                     18272 non-null  int64  \n",
      " 13  Windows                     18272 non-null  bool   \n",
      " 14  Mac                         18272 non-null  bool   \n",
      " 15  Linux                       18272 non-null  bool   \n",
      " 16  Metacritic score            18272 non-null  int64  \n",
      " 17  Positive                    18272 non-null  int64  \n",
      " 18  Negative                    18272 non-null  int64  \n",
      " 19  Recommendations             18272 non-null  int64  \n",
      " 20  Notes                       2163 non-null   object \n",
      " 21  Average playtime forever    18272 non-null  int64  \n",
      " 22  Average playtime two weeks  18272 non-null  int64  \n",
      " 23  Median playtime forever     18272 non-null  int64  \n",
      " 24  Median playtime two weeks   18272 non-null  int64  \n",
      " 25  Developers                  18272 non-null  object \n",
      " 26  Publishers                  18163 non-null  object \n",
      " 27  Categories                  18212 non-null  object \n",
      " 28  Genres                      18244 non-null  object \n",
      " 29  Tags                        18271 non-null  object \n",
      " 30  Rate_Ratio                  18272 non-null  float64\n",
      "dtypes: bool(3), float64(2), int64(14), object(12)\n",
      "memory usage: 4.0+ MB\n"
     ]
    }
   ],
   "source": [
    "#import packages\n",
    "import numpy as np\n",
    "import pandas as pd\n",
    "import regex as re\n",
    "\n",
    "game_data = pd.read_csv('data/clean_data.csv')\n",
    "game_data.info()"
   ]
  },
  {
   "cell_type": "markdown",
   "metadata": {},
   "source": [
    "Supported Audio Languages"
   ]
  },
  {
   "cell_type": "code",
   "execution_count": 18,
   "metadata": {},
   "outputs": [],
   "source": [
    "#extract audio\n",
    "copy_game_data = game_data.copy()\n",
    "audio_data = pd.DataFrame()\n",
    "audio_data.insert(0, 'AppID', game_data['AppID'])\n",
    "audio_data.insert(1, 'Name', game_data['Name'])\n",
    "index = 0\n",
    "\n",
    "for row in copy_game_data.itertuples(index = True, name = 'Data'):\n",
    "    temp = re.sub('[\\[\\]\\'\\s]', '', row[12])   #remove square brackets and apostrophes from string\n",
    "    temp = temp.split(',')    #split string by ',' into a list \n",
    "\n",
    "    if temp[0] == '':\n",
    "        temp.clear()\n",
    "        temp.append('None')                              \n",
    "\n",
    "    length = len(temp)\n",
    "\n",
    "    if temp[0] == 'None':\n",
    "        length -= 1\n",
    "\n",
    "    audio_data.at[index, 'Number of full audio languages'] = length   #store num of audio lang for each game\n",
    "    \n",
    "    audio_data.at[index, 'Full audio languages'] = temp   #store list of languages\n",
    "\n",
    "    index += 1\n",
    "\n",
    "if (audio_data.at[0, 'AppID'] == 1469160):\n",
    "    audio_data.at[0, 'Full audio languages'] = list(['None'])\n",
    "\n",
    "audio_data.to_csv(\"data/Audio.csv\", index=False)   #overwrite audio.csv"
   ]
  },
  {
   "cell_type": "code",
   "execution_count": 19,
   "metadata": {},
   "outputs": [
    {
     "name": "stdout",
     "output_type": "stream",
     "text": [
      "['English', 'Japanese', 'German', 'French', 'Russian', 'Italian', 'Spanish-Spain', 'Portuguese-Brazil', 'TraditionalChinese', 'Spanish-LatinAmerica', 'Turkish', 'SimplifiedChinese', 'Korean', 'Hungarian', 'Czech', 'Danish', 'Dutch', 'Norwegian', 'Polish', 'Swedish', 'Ukrainian', 'Greek', 'Portuguese', 'Thai', 'Finnish', 'Arabic', 'Bulgarian', 'Romanian', 'Vietnamese', 'Portuguese-Portugal', 'Indonesian', 'Hindi']\n",
      "Number of audio languages 32\n"
     ]
    }
   ],
   "source": [
    "#find all audio languages \n",
    "all_audio = list()\n",
    "all_audio.clear()\n",
    "for row in audio_data.itertuples(index = True, name = 'Data'):\n",
    "    for item in row[4]:\n",
    "        if item in all_audio:\n",
    "            continue\n",
    "        if item == 'None':\n",
    "            continue\n",
    "        if len(item) == 1:\n",
    "            continue\n",
    "        else:\n",
    "            all_audio.append(item)\n",
    "\n",
    "print(all_audio)\n",
    "print('Number of audio languages', len(all_audio))"
   ]
  },
  {
   "cell_type": "code",
   "execution_count": 20,
   "metadata": {},
   "outputs": [],
   "source": [
    "audio_sep_data = pd.DataFrame()\n",
    "audio_sep_data.insert(0, 'AppID', game_data['AppID'])\n",
    "audio_sep_data.insert(1, 'Name', game_data['Name'])\n",
    "audio_sep_data.insert(2, 'Price', game_data['Price'])\n",
    "\n",
    "for language in all_audio:\n",
    "    audio_sep_data[language] = 'F'\n",
    "\n",
    "audio_sep_data['None'] = 'F'\n",
    "\n",
    "audio_sep_data.to_csv(\"data/Audio_separated.csv\", index=False)\n"
   ]
  },
  {
   "cell_type": "code",
   "execution_count": 21,
   "metadata": {},
   "outputs": [
    {
     "name": "stdout",
     "output_type": "stream",
     "text": [
      "     AppID                       Name  Price English Japanese German French  \\\n",
      "0  1469160             Wartune Reborn   0.00       F        F      F      F   \n",
      "1  1178150      MazM: Jekyll and Hyde  14.99       F        F      F      F   \n",
      "2   320150  Deadlings: Rotten Edition   3.99       T        T      F      F   \n",
      "3  1026420                     WARSAW  23.99       F        F      F      F   \n",
      "4   485000             Cthulhu Realms   0.00       T        F      F      F   \n",
      "\n",
      "  Russian Italian Spanish-Spain  ... Thai Finnish Arabic Bulgarian Romanian  \\\n",
      "0       F       F             F  ...    F       F      F         F        F   \n",
      "1       F       F             F  ...    F       F      F         F        F   \n",
      "2       F       F             F  ...    F       F      F         F        F   \n",
      "3       F       F             F  ...    F       F      F         F        F   \n",
      "4       F       F             F  ...    F       F      F         F        F   \n",
      "\n",
      "  Vietnamese Portuguese-Portugal Indonesian Hindi None  \n",
      "0          F                   F          F     F    T  \n",
      "1          F                   F          F     F    T  \n",
      "2          F                   F          F     F    F  \n",
      "3          F                   F          F     F    T  \n",
      "4          F                   F          F     F    F  \n",
      "\n",
      "[5 rows x 36 columns]\n"
     ]
    }
   ],
   "source": [
    "index = 0\n",
    "\n",
    "for row in audio_data.itertuples(index = True, name = 'Data'):\n",
    "    \n",
    "    for item in row[4]:\n",
    "        audio_sep_data.at[index, item] = 'T'\n",
    "    index += 1\n",
    "\n",
    "audio_sep_data.to_csv(\"data/Audio_separated.csv\", index=False)\n",
    "print(audio_sep_data.head())"
   ]
  },
  {
   "cell_type": "code",
   "execution_count": null,
   "metadata": {},
   "outputs": [],
   "source": [
    "#For the boxplots\n",
    "#replace the TRUE values with the price\n",
    "audio_sep_price = pd.read_csv('data/Audio_separated.csv').copy()\n",
    "x=0\n",
    "print(game_data.shape[0])\n",
    "while x != game_data.shape[0]:\n",
    "\n",
    "    for row in audio_sep_price.itertuples(index = True, name = 'Data'):\n",
    "        audio_sep_price.loc[x] = audio_sep_price.loc[x].replace(to_replace='T', value=row[3])\n",
    "        audio_sep_price.loc[x] = audio_sep_price.loc[x].replace(to_replace='F', value=None)\n",
    "    \n",
    "        x+=1\n",
    "\n",
    "        if (x == game_data.shape[0]):\n",
    "            break\n",
    "\n",
    "\n",
    "audio_sep_price.to_csv('data/Audio_separated2.csv', index=False)"
   ]
  }
 ],
 "metadata": {
  "kernelspec": {
   "display_name": "base",
   "language": "python",
   "name": "python3"
  },
  "language_info": {
   "codemirror_mode": {
    "name": "ipython",
    "version": 3
   },
   "file_extension": ".py",
   "mimetype": "text/x-python",
   "name": "python",
   "nbconvert_exporter": "python",
   "pygments_lexer": "ipython3",
   "version": "3.9.13"
  },
  "orig_nbformat": 4,
  "vscode": {
   "interpreter": {
    "hash": "610a6f344c2137faf927ea819c63f6cee33a2c04455044b28099f39fe9722347"
   }
  }
 },
 "nbformat": 4,
 "nbformat_minor": 2
}
