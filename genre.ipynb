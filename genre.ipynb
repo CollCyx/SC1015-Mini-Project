{
 "cells": [
  {
   "cell_type": "code",
   "execution_count": 1,
   "metadata": {},
   "outputs": [],
   "source": [
    "#import packages\n",
    "import numpy as np\n",
    "import pandas as pd\n",
    "import seaborn as sb\n",
    "import matplotlib.pyplot as plt # we only need pyplot\n",
    "from sklearn.linear_model import LinearRegression\n",
    "from sklearn.model_selection import train_test_split\n",
    "from sklearn.metrics import mean_squared_error\n",
    "import json"
   ]
  },
  {
   "cell_type": "code",
   "execution_count": 2,
   "metadata": {},
   "outputs": [
    {
     "data": {
      "text/plain": [
       "(67137, 30)"
      ]
     },
     "execution_count": 2,
     "metadata": {},
     "output_type": "execute_result"
    }
   ],
   "source": [
    "game_data = pd.read_csv('data/test2.csv')\n",
    "\n",
    "#remove 999usd game\n",
    "i = game_data[(game_data.AppID == 1200520)].index\n",
    "game_data.drop(i[0], inplace=True)\n",
    "\n",
    "game_data.shape"
   ]
  },
  {
   "cell_type": "code",
   "execution_count": 3,
   "metadata": {},
   "outputs": [
    {
     "name": "stdout",
     "output_type": "stream",
     "text": [
      "count            67059\n",
      "unique            1961\n",
      "top       Casual,Indie\n",
      "freq              4068\n",
      "Name: Genres, dtype: object\n",
      "1962\n"
     ]
    }
   ],
   "source": [
    "genre_price = pd.DataFrame(game_data[[\"AppID\", \"Name\", \"Price\", \"Genres\"]])\n",
    "genre = pd.DataFrame(game_data[\"Genres\"])\n",
    "u_gen = genre_price[\"Genres\"].unique()\n",
    "print(genre_price[\"Genres\"].describe())\n",
    "print(len(u_gen))"
   ]
  },
  {
   "cell_type": "code",
   "execution_count": 4,
   "metadata": {},
   "outputs": [
    {
     "name": "stdout",
     "output_type": "stream",
     "text": [
      "nan\n",
      "['Casual', 'Indie', 'Sports', 'Action', 'Adventure', 'Strategy', 'Free to Play', 'Massively Multiplayer', 'RPG', 'Simulation', 'Early Access', 'Racing', 'Education', 'Sexual Content', 'Nudity', 'Violent', 'Gore', 'Design & Illustration', 'Game Development', 'Software Training', 'Animation & Modeling', 'Video Production', 'Photo Editing', 'Web Publishing', 'Audio Production', 'Accounting', 'Movie']\n"
     ]
    }
   ],
   "source": [
    "gen_list = []\n",
    "for i in u_gen:\n",
    "    try:\n",
    "        arr = i.split(\",\")\n",
    "    except:\n",
    "        print(i)\n",
    "    for j in arr:\n",
    "        if j not in gen_list:\n",
    "            gen_list.append(j)\n",
    "\n",
    "print(gen_list)"
   ]
  },
  {
   "cell_type": "code",
   "execution_count": 18,
   "metadata": {},
   "outputs": [],
   "source": [
    "test2 = game_data.loc[~game_data['Genres'].str.contains(r\"Education|Design & Illustration|Game Development|Software Training|Animation & Modeling|Video Production|Photo Editing|Web Publishing|Audio Production|Accounting|Movie\", case=False, na=False)]\n",
    "test2.to_csv(\"noGenre.csv\", sep=',', encoding='utf-8')"
   ]
  },
  {
   "cell_type": "code",
   "execution_count": 16,
   "metadata": {},
   "outputs": [],
   "source": [
    "test3 = test2.loc[test2['Genres'].str.contains(r\"Education\", case=False, na=False)]\n",
    "test3.to_csv(\"education.csv\", sep=',', encoding='utf-8')"
   ]
  },
  {
   "cell_type": "code",
   "execution_count": 13,
   "metadata": {},
   "outputs": [
    {
     "name": "stdout",
     "output_type": "stream",
     "text": [
      "count            66598\n",
      "unique            1826\n",
      "top       Casual,Indie\n",
      "freq              4068\n",
      "Name: Genres, dtype: object\n"
     ]
    }
   ],
   "source": [
    "print(test2[\"Genres\"].describe())"
   ]
  }
 ],
 "metadata": {
  "kernelspec": {
   "display_name": "Python 3 (ipykernel)",
   "language": "python",
   "name": "python3"
  },
  "language_info": {
   "codemirror_mode": {
    "name": "ipython",
    "version": 3
   },
   "file_extension": ".py",
   "mimetype": "text/x-python",
   "name": "python",
   "nbconvert_exporter": "python",
   "pygments_lexer": "ipython3",
   "version": "3.9.13"
  },
  "orig_nbformat": 4
 },
 "nbformat": 4,
 "nbformat_minor": 2
}
